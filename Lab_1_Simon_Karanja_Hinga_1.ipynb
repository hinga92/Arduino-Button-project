{
  "cells": [
    {
      "cell_type": "markdown",
      "metadata": {
        "id": "view-in-github",
        "colab_type": "text"
      },
      "source": [
        "<a href=\"https://colab.research.google.com/github/hinga92/Arduino-Button-project/blob/master/Lab_1_Simon_Karanja_Hinga_1.ipynb\" target=\"_parent\"><img src=\"https://colab.research.google.com/assets/colab-badge.svg\" alt=\"Open In Colab\"/></a>"
      ]
    },
    {
      "cell_type": "markdown",
      "id": "b1eca91d",
      "metadata": {
        "id": "b1eca91d"
      },
      "source": [
        "# Simon Karanja Hinga\n",
        "\n",
        "# ELEN 521L: Lab 1 \n",
        "\n",
        "Reading assignment :\n",
        "1. How to read academic papers by Andrew Ng\n",
        "\n",
        "2. Statistics review part\n",
        "\n"
      ]
    },
    {
      "cell_type": "code",
      "execution_count": 2,
      "id": "b6343a41",
      "metadata": {
        "id": "b6343a41"
      },
      "outputs": [],
      "source": [
        "#Dive into Deep Learning book \n",
        "\n",
        "import numpy as np\n",
        "import matplotlib.pyplot as plt\n",
        "import matplotlib\n",
        "%matplotlib inline\n",
        "\n",
        "# create a jupyter notebook\n",
        "\n",
        "# implement the relu function\n",
        "\n",
        "def relu(x):\n",
        "    return np.maximum(x, 0)\n",
        "\n",
        "#Implement relu6 function\n",
        "\n",
        "def relu6(x):\n",
        "    return np.minimum(relu(x), 6)\n",
        "\n",
        "#implement sigmoid function\n",
        "def sigmoid(x):\n",
        "    return 1/(1 + np.exp(-x))\n",
        "\n",
        "#implement tanh function\n",
        "def tanh(x):\n",
        "    return np.tanh(x)\n",
        "\n",
        "# implement the softmax functiom\n",
        "def softmax(x):\n",
        "    return np.exp(x) / np.sum(np.exp(x))"
      ]
    },
    {
      "cell_type": "markdown",
      "id": "251fd1fd",
      "metadata": {
        "id": "251fd1fd"
      },
      "source": [
        "# Test\n"
      ]
    },
    {
      "cell_type": "code",
      "execution_count": 3,
      "id": "eebf92d4",
      "metadata": {
        "id": "eebf92d4"
      },
      "outputs": [],
      "source": [
        "x = np.array([\n",
        "    [-2.0, 1.0,2.0,3.0],\n",
        "    [-20.0,10.0,20.0,30.0],\n",
        "    [-2000.0,1000.0,2000.0,3000.0]])"
      ]
    },
    {
      "cell_type": "code",
      "execution_count": 5,
      "id": "6b3bc1ed",
      "metadata": {
        "colab": {
          "base_uri": "https://localhost:8080/"
        },
        "id": "6b3bc1ed",
        "outputId": "6c61bafa-7495-44d9-81bc-1f9b6a205e7b"
      },
      "outputs": [
        {
          "output_type": "execute_result",
          "data": {
            "text/plain": [
              "array([[0.e+00, 1.e+00, 2.e+00, 3.e+00],\n",
              "       [0.e+00, 1.e+01, 2.e+01, 3.e+01],\n",
              "       [0.e+00, 1.e+03, 2.e+03, 3.e+03]])"
            ]
          },
          "metadata": {},
          "execution_count": 5
        }
      ],
      "source": [
        "relu(x)"
      ]
    },
    {
      "cell_type": "raw",
      "id": "b2dfc967",
      "metadata": {
        "id": "b2dfc967"
      },
      "source": [
        "relu6(x)"
      ]
    },
    {
      "cell_type": "code",
      "execution_count": 6,
      "id": "9bc48bf1",
      "metadata": {
        "colab": {
          "base_uri": "https://localhost:8080/"
        },
        "id": "9bc48bf1",
        "outputId": "c7e2797a-63c5-4384-e642-2d0bd28d079b"
      },
      "outputs": [
        {
          "output_type": "execute_result",
          "data": {
            "text/plain": [
              "array([[0., 1., 2., 3.],\n",
              "       [0., 6., 6., 6.],\n",
              "       [0., 6., 6., 6.]])"
            ]
          },
          "metadata": {},
          "execution_count": 6
        }
      ],
      "source": [
        "relu6(x)"
      ]
    },
    {
      "cell_type": "code",
      "execution_count": 7,
      "id": "a475116c",
      "metadata": {
        "colab": {
          "base_uri": "https://localhost:8080/"
        },
        "id": "a475116c",
        "outputId": "14bdf498-3e06-413d-9d6b-f9fcbbd9064d"
      },
      "outputs": [
        {
          "output_type": "stream",
          "name": "stderr",
          "text": [
            "/usr/local/lib/python3.7/dist-packages/ipykernel_launcher.py:22: RuntimeWarning: overflow encountered in exp\n"
          ]
        },
        {
          "output_type": "execute_result",
          "data": {
            "text/plain": [
              "array([[1.19202922e-01, 7.31058579e-01, 8.80797078e-01, 9.52574127e-01],\n",
              "       [2.06115362e-09, 9.99954602e-01, 9.99999998e-01, 1.00000000e+00],\n",
              "       [0.00000000e+00, 1.00000000e+00, 1.00000000e+00, 1.00000000e+00]])"
            ]
          },
          "metadata": {},
          "execution_count": 7
        }
      ],
      "source": [
        "sigmoid(x)"
      ]
    },
    {
      "cell_type": "code",
      "execution_count": 8,
      "id": "bc247b0d",
      "metadata": {
        "colab": {
          "base_uri": "https://localhost:8080/"
        },
        "id": "bc247b0d",
        "outputId": "a6ad57e6-1aee-41c8-aa4a-81b56e30b1fd"
      },
      "outputs": [
        {
          "output_type": "execute_result",
          "data": {
            "text/plain": [
              "array([[-0.96402758,  0.76159416,  0.96402758,  0.99505475],\n",
              "       [-1.        ,  1.        ,  1.        ,  1.        ],\n",
              "       [-1.        ,  1.        ,  1.        ,  1.        ]])"
            ]
          },
          "metadata": {},
          "execution_count": 8
        }
      ],
      "source": [
        "tanh(x)"
      ]
    },
    {
      "cell_type": "code",
      "execution_count": 9,
      "id": "7dd6da8b",
      "metadata": {
        "colab": {
          "base_uri": "https://localhost:8080/"
        },
        "id": "7dd6da8b",
        "outputId": "fad700dd-6cc5-45ba-9c76-94afa662ce05"
      },
      "outputs": [
        {
          "output_type": "stream",
          "name": "stderr",
          "text": [
            "/usr/local/lib/python3.7/dist-packages/ipykernel_launcher.py:30: RuntimeWarning: overflow encountered in exp\n",
            "/usr/local/lib/python3.7/dist-packages/ipykernel_launcher.py:30: RuntimeWarning: invalid value encountered in true_divide\n"
          ]
        },
        {
          "output_type": "execute_result",
          "data": {
            "text/plain": [
              "array([[ 0.,  0.,  0.,  0.],\n",
              "       [ 0.,  0.,  0.,  0.],\n",
              "       [ 0., nan, nan, nan]])"
            ]
          },
          "metadata": {},
          "execution_count": 9
        }
      ],
      "source": [
        "softmax(x)"
      ]
    },
    {
      "cell_type": "markdown",
      "id": "409e1103",
      "metadata": {
        "id": "409e1103"
      },
      "source": [
        "# Check distribution of operation\n",
        "## create distribution for x and w"
      ]
    },
    {
      "cell_type": "code",
      "execution_count": 10,
      "id": "e21230fb",
      "metadata": {
        "id": "e21230fb"
      },
      "outputs": [],
      "source": [
        "S = 100000\n",
        "N = 10\n",
        "\n",
        "x = np.random.normal(loc=0, scale=1, size=(S,N))\n",
        "w = np.random.normal(loc=0, scale=1, size=(S,N))"
      ]
    },
    {
      "cell_type": "markdown",
      "id": "6baf679f",
      "metadata": {
        "id": "6baf679f"
      },
      "source": [
        "# Compute output Distribution\n"
      ]
    },
    {
      "cell_type": "code",
      "execution_count": 11,
      "id": "cf59d118",
      "metadata": {
        "colab": {
          "base_uri": "https://localhost:8080/"
        },
        "id": "cf59d118",
        "outputId": "bf31a3cb-9a5e-4711-e089-4200dbe62871"
      },
      "outputs": [
        {
          "output_type": "stream",
          "name": "stdout",
          "text": [
            "1.2303957332018174 3.484124488773368\n"
          ]
        }
      ],
      "source": [
        "y = relu(np.sum(w * x, axis=1))\n",
        "print(np.mean(y), np.var(y))"
      ]
    },
    {
      "cell_type": "markdown",
      "id": "1124a702",
      "metadata": {
        "id": "1124a702"
      },
      "source": [
        "# Let assume Variance of x range from 0 to 3 and compute Distribution of y"
      ]
    },
    {
      "cell_type": "code",
      "execution_count": 12,
      "id": "f8bd9431",
      "metadata": {
        "colab": {
          "base_uri": "https://localhost:8080/",
          "height": 545
        },
        "id": "f8bd9431",
        "outputId": "7900fd7c-011b-4158-c41b-2e5a7a29a3eb"
      },
      "outputs": [
        {
          "output_type": "display_data",
          "data": {
            "image/png": "[encoded data removed]",
            "text/plain": [
              "<Figure size 432x288 with 1 Axes>"
            ]
          },
          "metadata": {
            "needs_background": "light"
          }
        },
        {
          "output_type": "display_data",
          "data": {
            "image/png": "[encoded data removed]",
            "text/plain": [
              "<Figure size 432x288 with 1 Axes>"
            ]
          },
          "metadata": {
            "needs_background": "light"
          }
        }
      ],
      "source": [
        "means = []\n",
        "variances = []\n",
        "scales = np.linspace(0, 3, 100)\n",
        "\n",
        "for s in scales:\n",
        "    x = np.random.normal(loc=0, scale=s, size=(S, N))\n",
        "    y = relu(np.sum(w * x, axis=1))\n",
        "    means.append(np.mean(y))\n",
        "    variances.append(np.var(y))\n",
        "    \n",
        "plt.plot(scales, means)\n",
        "plt.title('Mean')\n",
        "plt.show()\n",
        "plt.plot(scales, variances)\n",
        "plt.title('Variance')\n",
        "plt.show()"
      ]
    },
    {
      "cell_type": "markdown",
      "id": "f7ccdc74",
      "metadata": {
        "id": "f7ccdc74"
      },
      "source": [
        "# Find the relation for Mean and Variance"
      ]
    },
    {
      "cell_type": "code",
      "execution_count": 13,
      "id": "cdb616cb",
      "metadata": {
        "colab": {
          "base_uri": "https://localhost:8080/"
        },
        "id": "cdb616cb",
        "outputId": "ad459995-0741-4b0f-ed81-d3b23d1c3856"
      },
      "outputs": [
        {
          "output_type": "stream",
          "name": "stdout",
          "text": [
            " \n",
            "1.231 x + 0.0004842\n"
          ]
        }
      ],
      "source": [
        "p = np.polyfit(scales, means, 1)\n",
        "x_poly_mean = np.poly1d(p)\n",
        "print(x_poly_mean)"
      ]
    },
    {
      "cell_type": "code",
      "execution_count": 14,
      "id": "f91b13ef",
      "metadata": {
        "colab": {
          "base_uri": "https://localhost:8080/"
        },
        "id": "f91b13ef",
        "outputId": "b2081c27-8242-482a-c2fa-9d8225cfd61e"
      },
      "outputs": [
        {
          "output_type": "stream",
          "name": "stdout",
          "text": [
            "sampled distribution: 9.94801898334373e-06 11.030322496429232\n",
            "formula distribution: 0 1.9988226476791724\n"
          ]
        }
      ],
      "source": [
        "# larger sample size for distribution give us a good result\n",
        "\n",
        "S = 1000000\n",
        "N = 10\n",
        "\n",
        "#  let's assume 'b' is 0\n",
        "\n",
        "b = np.random.normal(loc=0, scale=1, size=(S,))\n",
        "x = np.random.normal(loc=0, scale=1, size=(S, N))\n",
        "W = np.random.normal(loc=0, scale=1, size=(S, N))\n",
        "\n",
        "y = np.sum(W * x, axis=1) + b\n",
        "\n",
        "print('sampled distribution:', np.mean(y), np.var(y))\n",
        "\n",
        "\n",
        "print('formula distribution:', 0, np.var(b) + np.var(w) * \n",
        "      np.mean(np.sum(x**2, axis=1) / N))"
      ]
    },
    {
      "cell_type": "markdown",
      "id": "7592933d",
      "metadata": {
        "id": "7592933d"
      },
      "source": [
        "#Conclusion based on the numbers\n",
        "The sample distribution results (11.010822161908205) to a number close to the presummed value of N = 10\n",
        "the formula distribution gives the exact value obtained based on calculation done using the [y = np.sum(W * x, axis=1) + b] formula"
      ]
    },
    {
      "cell_type": "markdown",
      "id": "a141e187",
      "metadata": {
        "id": "a141e187"
      },
      "source": [
        "# Prove the formula for 𝜎2𝑓(𝑖)\n",
        "\n",
        "We can use the relationshop between variance and expected value of E(x):\n",
        "\n",
        "$ \\sigma = sqrt(Var(x))$\n",
        "\n",
        "$ \\sigma^2_F(i) = Var(x)$\n",
        "\n",
        "$ Var = E[(x-u(x))^2)]$\n",
        "\n",
        "$ \\sigma = Var(x) = EX^2 -2uE(x) + Eu^2x^2$\n",
        "\n",
        "But we have $E(x) = u(x) =u$ , therefore replacing this in the equation above,\n",
        "We observe that $ \\sigma= Var(x)= Ex^2-2u^2 + u^2 $\n",
        "Resulting to: $E[x^2]-u^2$\n",
        "\n",
        "$\\sigma^2 =Var(2)= E(x^2)-u^2$\n"
      ]
    },
    {
      "cell_type": "markdown",
      "id": "d247b23b",
      "metadata": {
        "id": "d247b23b"
      },
      "source": [
        "# Load Iris Dataset"
      ]
    },
    {
      "cell_type": "code",
      "execution_count": 15,
      "id": "91ad3949",
      "metadata": {
        "id": "91ad3949"
      },
      "outputs": [],
      "source": [
        "import matplotlib.pyplot as plt\n",
        "import numpy as np\n",
        "from sklearn import datasets\n",
        "from sklearn.model_selection import train_test_split\n",
        "\n",
        "\n",
        "def load_iris():\n",
        "    X, y = datasets.load_iris(return_X_y=True)\n",
        "    X_train, X_test, y_train, y_test = train_test_split(X, y, test_size=0.33, random_state=42)\n",
        "    return (X_train, y_train), (X_test, y_test)"
      ]
    },
    {
      "cell_type": "markdown",
      "id": "d351d46c",
      "metadata": {
        "id": "d351d46c"
      },
      "source": [
        "# load the MNIST Dataset"
      ]
    },
    {
      "cell_type": "code",
      "execution_count": 20,
      "id": "8e17c118",
      "metadata": {
        "id": "8e17c118"
      },
      "outputs": [],
      "source": [
        "from sklearn.datasets import load_digits\n",
        "def load_mnist():\n",
        "    X, y = load_digits(return_X_y=True)\n",
        "    X_train, X_test, y_train, y_test = train_test_split(X, y, test_size=0.2, random_state=42)\n",
        "    return (X_train, y_train), (X_test, y_test)"
      ]
    },
    {
      "cell_type": "code",
      "execution_count": 21,
      "id": "52713320",
      "metadata": {
        "colab": {
          "base_uri": "https://localhost:8080/",
          "height": 265
        },
        "id": "52713320",
        "outputId": "ced30688-f325-4136-a642-90d510e7f921"
      },
      "outputs": [
        {
          "output_type": "display_data",
          "data": {
            "image/png": "[encoded data removed]",
            "text/plain": [
              "<Figure size 432x288 with 9 Axes>"
            ]
          },
          "metadata": {
            "needs_background": "light"
          }
        }
      ],
      "source": [
        "(x_train, y_train), (x_test, y_test) = load_mnist()\n",
        "\n",
        "_, ax = plt.subplots(3,3)\n",
        "for i in range(3):\n",
        "    for j in range(3):\n",
        "        idx = np.random.randint(x_train.shape[0])\n",
        "        ax[i,j].imshow(x_train[idx].reshape(8,8))"
      ]
    }
  ],
  "metadata": {
    "kernelspec": {
      "display_name": "Python 3",
      "language": "python",
      "name": "python3"
    },
    "language_info": {
      "codemirror_mode": {
        "name": "ipython",
        "version": 3
      },
      "file_extension": ".py",
      "mimetype": "text/x-python",
      "name": "python",
      "nbconvert_exporter": "python",
      "pygments_lexer": "ipython3",
      "version": "3.8.8"
    },
    "colab": {
      "name": "Lab 1- Simon Karanja Hinga-1.ipynb",
      "provenance": [],
      "collapsed_sections": [],
      "toc_visible": true,
      "include_colab_link": true
    }
  },
  "nbformat": 4,
  "nbformat_minor": 5
}